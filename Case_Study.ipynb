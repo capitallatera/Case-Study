{
  "nbformat": 4,
  "nbformat_minor": 0,
  "metadata": {
    "kernelspec": {
      "display_name": "Python 3",
      "language": "python",
      "name": "python3"
    },
    "language_info": {
      "codemirror_mode": {
        "name": "ipython",
        "version": 3
      },
      "file_extension": ".py",
      "mimetype": "text/x-python",
      "name": "python",
      "nbconvert_exporter": "python",
      "pygments_lexer": "ipython3",
      "version": "3.7.4"
    },
    "colab": {
      "name": "Case Study.ipynb",
      "provenance": [],
      "include_colab_link": true
    }
  },
  "cells": [
    {
      "cell_type": "markdown",
      "metadata": {
        "id": "view-in-github",
        "colab_type": "text"
      },
      "source": [
        "<a href=\"https://colab.research.google.com/github/capitallatera/Case-Study/blob/master/Case_Study.ipynb\" target=\"_parent\"><img src=\"https://colab.research.google.com/assets/colab-badge.svg\" alt=\"Open In Colab\"/></a>"
      ]
    },
    {
      "cell_type": "code",
      "metadata": {
        "id": "aPZhgIfC-gYO",
        "colab_type": "code",
        "colab": {},
        "outputId": "4baccda1-4394-4712-fa0b-7389a68dd4f4"
      },
      "source": [
        "ls"
      ],
      "execution_count": 0,
      "outputs": [
        {
          "output_type": "stream",
          "text": [
            "investments.csv  practice.csv  Questions.docx  Untitled.ipynb\r\n"
          ],
          "name": "stdout"
        }
      ]
    },
    {
      "cell_type": "code",
      "metadata": {
        "id": "-2k3rVG5-gYi",
        "colab_type": "code",
        "colab": {}
      },
      "source": [
        "import numpy as np\n",
        "import pandas as pd"
      ],
      "execution_count": 0,
      "outputs": []
    },
    {
      "cell_type": "code",
      "metadata": {
        "collapsed": true,
        "id": "Ium_mYSH-gY0",
        "colab_type": "code",
        "colab": {},
        "outputId": "c1f93b09-ccf8-4f5f-c3f3-a9ea7c8a391a"
      },
      "source": [
        "# Read the given comma separated values as dataframe (investments.csv)\n",
        "## df=pd.read_csv(\"investments.csv\",sep=',',engine='python')\n",
        "df=pd.read_csv(\"investments.csv\",encoding=\"latin-1\")\n",
        "df.head(3)"
      ],
      "execution_count": 0,
      "outputs": [
        {
          "output_type": "execute_result",
          "data": {
            "text/html": [
              "<div>\n",
              "<style scoped>\n",
              "    .dataframe tbody tr th:only-of-type {\n",
              "        vertical-align: middle;\n",
              "    }\n",
              "\n",
              "    .dataframe tbody tr th {\n",
              "        vertical-align: top;\n",
              "    }\n",
              "\n",
              "    .dataframe thead th {\n",
              "        text-align: right;\n",
              "    }\n",
              "</style>\n",
              "<table border=\"1\" class=\"dataframe\">\n",
              "  <thead>\n",
              "    <tr style=\"text-align: right;\">\n",
              "      <th></th>\n",
              "      <th>name</th>\n",
              "      <th>homepage_url</th>\n",
              "      <th>category_list</th>\n",
              "      <th>market</th>\n",
              "      <th>funding_total_usd</th>\n",
              "      <th>status</th>\n",
              "      <th>country_code</th>\n",
              "      <th>state_code</th>\n",
              "      <th>region</th>\n",
              "      <th>city</th>\n",
              "      <th>funding_rounds</th>\n",
              "      <th>founded_year</th>\n",
              "      <th>debt_financing</th>\n",
              "      <th>grant</th>\n",
              "    </tr>\n",
              "  </thead>\n",
              "  <tbody>\n",
              "    <tr>\n",
              "      <td>0</td>\n",
              "      <td>#waywire</td>\n",
              "      <td>http://www.waywire.com</td>\n",
              "      <td>|Entertainment|Politics|Social Media|News|</td>\n",
              "      <td>News</td>\n",
              "      <td>17,50,000</td>\n",
              "      <td>acquired</td>\n",
              "      <td>USA</td>\n",
              "      <td>NY</td>\n",
              "      <td>New York City</td>\n",
              "      <td>New York</td>\n",
              "      <td>1</td>\n",
              "      <td>2012.0</td>\n",
              "      <td>0</td>\n",
              "      <td>0</td>\n",
              "    </tr>\n",
              "    <tr>\n",
              "      <td>1</td>\n",
              "      <td>&amp;TV Communications</td>\n",
              "      <td>http://enjoyandtv.com</td>\n",
              "      <td>|Games|</td>\n",
              "      <td>Games</td>\n",
              "      <td>40,00,000</td>\n",
              "      <td>operating</td>\n",
              "      <td>USA</td>\n",
              "      <td>CA</td>\n",
              "      <td>Los Angeles</td>\n",
              "      <td>Los Angeles</td>\n",
              "      <td>2</td>\n",
              "      <td>NaN</td>\n",
              "      <td>0</td>\n",
              "      <td>0</td>\n",
              "    </tr>\n",
              "    <tr>\n",
              "      <td>2</td>\n",
              "      <td>'Rock' Your Paper</td>\n",
              "      <td>http://www.rockyourpaper.org</td>\n",
              "      <td>|Publishing|Education|</td>\n",
              "      <td>Publishing</td>\n",
              "      <td>40,000</td>\n",
              "      <td>operating</td>\n",
              "      <td>EST</td>\n",
              "      <td>NaN</td>\n",
              "      <td>Tallinn</td>\n",
              "      <td>Tallinn</td>\n",
              "      <td>1</td>\n",
              "      <td>2012.0</td>\n",
              "      <td>0</td>\n",
              "      <td>0</td>\n",
              "    </tr>\n",
              "  </tbody>\n",
              "</table>\n",
              "</div>"
            ],
            "text/plain": [
              "                 name                  homepage_url  \\\n",
              "0            #waywire        http://www.waywire.com   \n",
              "1  &TV Communications         http://enjoyandtv.com   \n",
              "2   'Rock' Your Paper  http://www.rockyourpaper.org   \n",
              "\n",
              "                                category_list       market   \\\n",
              "0  |Entertainment|Politics|Social Media|News|         News    \n",
              "1                                     |Games|        Games    \n",
              "2                      |Publishing|Education|   Publishing    \n",
              "\n",
              "   funding_total_usd      status country_code state_code         region  \\\n",
              "0           17,50,000   acquired          USA         NY  New York City   \n",
              "1           40,00,000  operating          USA         CA    Los Angeles   \n",
              "2              40,000  operating          EST        NaN        Tallinn   \n",
              "\n",
              "          city  funding_rounds  founded_year  debt_financing  grant  \n",
              "0     New York               1        2012.0               0      0  \n",
              "1  Los Angeles               2           NaN               0      0  \n",
              "2      Tallinn               1        2012.0               0      0  "
            ]
          },
          "metadata": {
            "tags": []
          },
          "execution_count": 23
        }
      ]
    },
    {
      "cell_type": "code",
      "metadata": {
        "id": "ApP0e0uR-gZC",
        "colab_type": "code",
        "colab": {},
        "outputId": "9c027446-9897-454a-ccbf-5f2ece347c49"
      },
      "source": [
        "# List out all columns names.\n",
        "df.columns"
      ],
      "execution_count": 0,
      "outputs": [
        {
          "output_type": "execute_result",
          "data": {
            "text/plain": [
              "Index(['name', 'homepage_url', 'category_list', ' market ',\n",
              "       ' funding_total_usd ', 'status', 'country_code', 'state_code', 'region',\n",
              "       'city', 'funding_rounds', 'founded_year', 'debt_financing', 'grant'],\n",
              "      dtype='object')"
            ]
          },
          "metadata": {
            "tags": []
          },
          "execution_count": 24
        }
      ]
    },
    {
      "cell_type": "code",
      "metadata": {
        "collapsed": true,
        "id": "BfsfXoV2-gZQ",
        "colab_type": "code",
        "colab": {},
        "outputId": "aa18d3d8-ec16-4da5-ff37-c181937be80e"
      },
      "source": [
        "# Create a dataframe with numerical columns.\n",
        "col=df.describe().columns\n",
        "df_1=df[col]\n",
        "print(type(df_1))\n",
        "df_1.head(10)\n",
        "\n",
        "# or\n",
        "# df._get_numeric_data().head(10)\n",
        "# type(df._get_numeric_data().head(10))"
      ],
      "execution_count": 0,
      "outputs": [
        {
          "output_type": "stream",
          "text": [
            "<class 'pandas.core.frame.DataFrame'>\n"
          ],
          "name": "stdout"
        },
        {
          "output_type": "execute_result",
          "data": {
            "text/html": [
              "<div>\n",
              "<style scoped>\n",
              "    .dataframe tbody tr th:only-of-type {\n",
              "        vertical-align: middle;\n",
              "    }\n",
              "\n",
              "    .dataframe tbody tr th {\n",
              "        vertical-align: top;\n",
              "    }\n",
              "\n",
              "    .dataframe thead th {\n",
              "        text-align: right;\n",
              "    }\n",
              "</style>\n",
              "<table border=\"1\" class=\"dataframe\">\n",
              "  <thead>\n",
              "    <tr style=\"text-align: right;\">\n",
              "      <th></th>\n",
              "      <th>funding_rounds</th>\n",
              "      <th>founded_year</th>\n",
              "      <th>debt_financing</th>\n",
              "      <th>grant</th>\n",
              "    </tr>\n",
              "  </thead>\n",
              "  <tbody>\n",
              "    <tr>\n",
              "      <td>0</td>\n",
              "      <td>1</td>\n",
              "      <td>2012.0</td>\n",
              "      <td>0</td>\n",
              "      <td>0</td>\n",
              "    </tr>\n",
              "    <tr>\n",
              "      <td>1</td>\n",
              "      <td>2</td>\n",
              "      <td>NaN</td>\n",
              "      <td>0</td>\n",
              "      <td>0</td>\n",
              "    </tr>\n",
              "    <tr>\n",
              "      <td>2</td>\n",
              "      <td>1</td>\n",
              "      <td>2012.0</td>\n",
              "      <td>0</td>\n",
              "      <td>0</td>\n",
              "    </tr>\n",
              "    <tr>\n",
              "      <td>3</td>\n",
              "      <td>1</td>\n",
              "      <td>2011.0</td>\n",
              "      <td>0</td>\n",
              "      <td>0</td>\n",
              "    </tr>\n",
              "    <tr>\n",
              "      <td>4</td>\n",
              "      <td>2</td>\n",
              "      <td>2014.0</td>\n",
              "      <td>0</td>\n",
              "      <td>0</td>\n",
              "    </tr>\n",
              "    <tr>\n",
              "      <td>5</td>\n",
              "      <td>1</td>\n",
              "      <td>2011.0</td>\n",
              "      <td>0</td>\n",
              "      <td>0</td>\n",
              "    </tr>\n",
              "    <tr>\n",
              "      <td>6</td>\n",
              "      <td>1</td>\n",
              "      <td>NaN</td>\n",
              "      <td>0</td>\n",
              "      <td>0</td>\n",
              "    </tr>\n",
              "    <tr>\n",
              "      <td>7</td>\n",
              "      <td>1</td>\n",
              "      <td>2007.0</td>\n",
              "      <td>0</td>\n",
              "      <td>0</td>\n",
              "    </tr>\n",
              "    <tr>\n",
              "      <td>8</td>\n",
              "      <td>1</td>\n",
              "      <td>2010.0</td>\n",
              "      <td>0</td>\n",
              "      <td>0</td>\n",
              "    </tr>\n",
              "    <tr>\n",
              "      <td>9</td>\n",
              "      <td>1</td>\n",
              "      <td>NaN</td>\n",
              "      <td>0</td>\n",
              "      <td>0</td>\n",
              "    </tr>\n",
              "  </tbody>\n",
              "</table>\n",
              "</div>"
            ],
            "text/plain": [
              "   funding_rounds  founded_year  debt_financing  grant\n",
              "0               1        2012.0               0      0\n",
              "1               2           NaN               0      0\n",
              "2               1        2012.0               0      0\n",
              "3               1        2011.0               0      0\n",
              "4               2        2014.0               0      0\n",
              "5               1        2011.0               0      0\n",
              "6               1           NaN               0      0\n",
              "7               1        2007.0               0      0\n",
              "8               1        2010.0               0      0\n",
              "9               1           NaN               0      0"
            ]
          },
          "metadata": {
            "tags": []
          },
          "execution_count": 102
        }
      ]
    },
    {
      "cell_type": "code",
      "metadata": {
        "collapsed": true,
        "id": "QNR0mOEK-gZf",
        "colab_type": "code",
        "colab": {},
        "outputId": "f9ba9ab8-cc70-458a-96cf-8680e381b873"
      },
      "source": [
        "# Create a dataframe with categorical columns.\n",
        "col=df.columns\n",
        "num_col=df._get_numeric_data().columns\n",
        "cat_col=list(set(col)-set(num_col))\n",
        "df_2=df[cat_col].head()\n",
        "df_2.head(10)"
      ],
      "execution_count": 0,
      "outputs": [
        {
          "output_type": "execute_result",
          "data": {
            "text/html": [
              "<div>\n",
              "<style scoped>\n",
              "    .dataframe tbody tr th:only-of-type {\n",
              "        vertical-align: middle;\n",
              "    }\n",
              "\n",
              "    .dataframe tbody tr th {\n",
              "        vertical-align: top;\n",
              "    }\n",
              "\n",
              "    .dataframe thead th {\n",
              "        text-align: right;\n",
              "    }\n",
              "</style>\n",
              "<table border=\"1\" class=\"dataframe\">\n",
              "  <thead>\n",
              "    <tr style=\"text-align: right;\">\n",
              "      <th></th>\n",
              "      <th>name</th>\n",
              "      <th>category_list</th>\n",
              "      <th>country_code</th>\n",
              "      <th>region</th>\n",
              "      <th>state_code</th>\n",
              "      <th>city</th>\n",
              "      <th>market</th>\n",
              "      <th>status</th>\n",
              "      <th>funding_total_usd</th>\n",
              "      <th>homepage_url</th>\n",
              "    </tr>\n",
              "  </thead>\n",
              "  <tbody>\n",
              "    <tr>\n",
              "      <td>0</td>\n",
              "      <td>#waywire</td>\n",
              "      <td>|Entertainment|Politics|Social Media|News|</td>\n",
              "      <td>USA</td>\n",
              "      <td>New York City</td>\n",
              "      <td>NY</td>\n",
              "      <td>New York</td>\n",
              "      <td>News</td>\n",
              "      <td>acquired</td>\n",
              "      <td>17,50,000</td>\n",
              "      <td>http://www.waywire.com</td>\n",
              "    </tr>\n",
              "    <tr>\n",
              "      <td>1</td>\n",
              "      <td>&amp;TV Communications</td>\n",
              "      <td>|Games|</td>\n",
              "      <td>USA</td>\n",
              "      <td>Los Angeles</td>\n",
              "      <td>CA</td>\n",
              "      <td>Los Angeles</td>\n",
              "      <td>Games</td>\n",
              "      <td>operating</td>\n",
              "      <td>40,00,000</td>\n",
              "      <td>http://enjoyandtv.com</td>\n",
              "    </tr>\n",
              "    <tr>\n",
              "      <td>2</td>\n",
              "      <td>'Rock' Your Paper</td>\n",
              "      <td>|Publishing|Education|</td>\n",
              "      <td>EST</td>\n",
              "      <td>Tallinn</td>\n",
              "      <td>NaN</td>\n",
              "      <td>Tallinn</td>\n",
              "      <td>Publishing</td>\n",
              "      <td>operating</td>\n",
              "      <td>40,000</td>\n",
              "      <td>http://www.rockyourpaper.org</td>\n",
              "    </tr>\n",
              "    <tr>\n",
              "      <td>3</td>\n",
              "      <td>(In)Touch Network</td>\n",
              "      <td>|Electronics|Guides|Coffee|Restaurants|Music|i...</td>\n",
              "      <td>GBR</td>\n",
              "      <td>London</td>\n",
              "      <td>NaN</td>\n",
              "      <td>London</td>\n",
              "      <td>Electronics</td>\n",
              "      <td>operating</td>\n",
              "      <td>15,00,000</td>\n",
              "      <td>http://www.InTouchNetwork.com</td>\n",
              "    </tr>\n",
              "    <tr>\n",
              "      <td>4</td>\n",
              "      <td>-R- Ranch and Mine</td>\n",
              "      <td>|Tourism|Entertainment|Games|</td>\n",
              "      <td>USA</td>\n",
              "      <td>Dallas</td>\n",
              "      <td>TX</td>\n",
              "      <td>Fort Worth</td>\n",
              "      <td>Tourism</td>\n",
              "      <td>operating</td>\n",
              "      <td>60,000</td>\n",
              "      <td>NaN</td>\n",
              "    </tr>\n",
              "  </tbody>\n",
              "</table>\n",
              "</div>"
            ],
            "text/plain": [
              "                 name                                      category_list  \\\n",
              "0            #waywire         |Entertainment|Politics|Social Media|News|   \n",
              "1  &TV Communications                                            |Games|   \n",
              "2   'Rock' Your Paper                             |Publishing|Education|   \n",
              "3   (In)Touch Network  |Electronics|Guides|Coffee|Restaurants|Music|i...   \n",
              "4  -R- Ranch and Mine                      |Tourism|Entertainment|Games|   \n",
              "\n",
              "  country_code         region state_code         city        market   \\\n",
              "0          USA  New York City         NY     New York          News    \n",
              "1          USA    Los Angeles         CA  Los Angeles         Games    \n",
              "2          EST        Tallinn        NaN      Tallinn    Publishing    \n",
              "3          GBR         London        NaN       London   Electronics    \n",
              "4          USA         Dallas         TX   Fort Worth       Tourism    \n",
              "\n",
              "      status  funding_total_usd                    homepage_url  \n",
              "0   acquired           17,50,000         http://www.waywire.com  \n",
              "1  operating           40,00,000          http://enjoyandtv.com  \n",
              "2  operating              40,000   http://www.rockyourpaper.org  \n",
              "3  operating           15,00,000  http://www.InTouchNetwork.com  \n",
              "4  operating              60,000                            NaN  "
            ]
          },
          "metadata": {
            "tags": []
          },
          "execution_count": 116
        }
      ]
    },
    {
      "cell_type": "code",
      "metadata": {
        "collapsed": true,
        "id": "QHEnNKow-gZr",
        "colab_type": "code",
        "colab": {},
        "outputId": "0a4d5e0f-28be-474c-86ba-465440ee8ed5"
      },
      "source": [
        "# Get summary on the data and draw inferences if any.\n",
        "print(df.info())\n",
        "df.describe(include='all')"
      ],
      "execution_count": 0,
      "outputs": [
        {
          "output_type": "stream",
          "text": [
            "<class 'pandas.core.frame.DataFrame'>\n",
            "RangeIndex: 49438 entries, 0 to 49437\n",
            "Data columns (total 14 columns):\n",
            "name                   49437 non-null object\n",
            "homepage_url           45989 non-null object\n",
            "category_list          45477 non-null object\n",
            " market                45470 non-null object\n",
            " funding_total_usd     49438 non-null object\n",
            "status                 48124 non-null object\n",
            "country_code           44165 non-null object\n",
            "state_code             30161 non-null object\n",
            "region                 44165 non-null object\n",
            "city                   43322 non-null object\n",
            "funding_rounds         49438 non-null int64\n",
            "founded_year           38482 non-null float64\n",
            "debt_financing         49438 non-null int64\n",
            "grant                  49438 non-null int64\n",
            "dtypes: float64(1), int64(3), object(10)\n",
            "memory usage: 5.3+ MB\n",
            "None\n"
          ],
          "name": "stdout"
        },
        {
          "output_type": "execute_result",
          "data": {
            "text/html": [
              "<div>\n",
              "<style scoped>\n",
              "    .dataframe tbody tr th:only-of-type {\n",
              "        vertical-align: middle;\n",
              "    }\n",
              "\n",
              "    .dataframe tbody tr th {\n",
              "        vertical-align: top;\n",
              "    }\n",
              "\n",
              "    .dataframe thead th {\n",
              "        text-align: right;\n",
              "    }\n",
              "</style>\n",
              "<table border=\"1\" class=\"dataframe\">\n",
              "  <thead>\n",
              "    <tr style=\"text-align: right;\">\n",
              "      <th></th>\n",
              "      <th>name</th>\n",
              "      <th>homepage_url</th>\n",
              "      <th>category_list</th>\n",
              "      <th>market</th>\n",
              "      <th>funding_total_usd</th>\n",
              "      <th>status</th>\n",
              "      <th>country_code</th>\n",
              "      <th>state_code</th>\n",
              "      <th>region</th>\n",
              "      <th>city</th>\n",
              "      <th>funding_rounds</th>\n",
              "      <th>founded_year</th>\n",
              "      <th>debt_financing</th>\n",
              "      <th>grant</th>\n",
              "    </tr>\n",
              "  </thead>\n",
              "  <tbody>\n",
              "    <tr>\n",
              "      <td>count</td>\n",
              "      <td>49437</td>\n",
              "      <td>45989</td>\n",
              "      <td>45477</td>\n",
              "      <td>45470</td>\n",
              "      <td>49438</td>\n",
              "      <td>48124</td>\n",
              "      <td>44165</td>\n",
              "      <td>30161</td>\n",
              "      <td>44165</td>\n",
              "      <td>43322</td>\n",
              "      <td>49438.000000</td>\n",
              "      <td>38482.000000</td>\n",
              "      <td>4.943800e+04</td>\n",
              "      <td>4.943800e+04</td>\n",
              "    </tr>\n",
              "    <tr>\n",
              "      <td>unique</td>\n",
              "      <td>49350</td>\n",
              "      <td>45850</td>\n",
              "      <td>16675</td>\n",
              "      <td>753</td>\n",
              "      <td>14617</td>\n",
              "      <td>3</td>\n",
              "      <td>115</td>\n",
              "      <td>61</td>\n",
              "      <td>1089</td>\n",
              "      <td>4188</td>\n",
              "      <td>NaN</td>\n",
              "      <td>NaN</td>\n",
              "      <td>NaN</td>\n",
              "      <td>NaN</td>\n",
              "    </tr>\n",
              "    <tr>\n",
              "      <td>top</td>\n",
              "      <td>Spire</td>\n",
              "      <td>http://www.zhaopin.com</td>\n",
              "      <td>|Software|</td>\n",
              "      <td>Software</td>\n",
              "      <td>-</td>\n",
              "      <td>operating</td>\n",
              "      <td>USA</td>\n",
              "      <td>CA</td>\n",
              "      <td>SF Bay Area</td>\n",
              "      <td>San Francisco</td>\n",
              "      <td>NaN</td>\n",
              "      <td>NaN</td>\n",
              "      <td>NaN</td>\n",
              "      <td>NaN</td>\n",
              "    </tr>\n",
              "    <tr>\n",
              "      <td>freq</td>\n",
              "      <td>4</td>\n",
              "      <td>2</td>\n",
              "      <td>3650</td>\n",
              "      <td>4620</td>\n",
              "      <td>8531</td>\n",
              "      <td>41829</td>\n",
              "      <td>28793</td>\n",
              "      <td>9917</td>\n",
              "      <td>6804</td>\n",
              "      <td>2615</td>\n",
              "      <td>NaN</td>\n",
              "      <td>NaN</td>\n",
              "      <td>NaN</td>\n",
              "      <td>NaN</td>\n",
              "    </tr>\n",
              "    <tr>\n",
              "      <td>mean</td>\n",
              "      <td>NaN</td>\n",
              "      <td>NaN</td>\n",
              "      <td>NaN</td>\n",
              "      <td>NaN</td>\n",
              "      <td>NaN</td>\n",
              "      <td>NaN</td>\n",
              "      <td>NaN</td>\n",
              "      <td>NaN</td>\n",
              "      <td>NaN</td>\n",
              "      <td>NaN</td>\n",
              "      <td>1.696205</td>\n",
              "      <td>2007.359129</td>\n",
              "      <td>1.888157e+06</td>\n",
              "      <td>1.628453e+05</td>\n",
              "    </tr>\n",
              "    <tr>\n",
              "      <td>std</td>\n",
              "      <td>NaN</td>\n",
              "      <td>NaN</td>\n",
              "      <td>NaN</td>\n",
              "      <td>NaN</td>\n",
              "      <td>NaN</td>\n",
              "      <td>NaN</td>\n",
              "      <td>NaN</td>\n",
              "      <td>NaN</td>\n",
              "      <td>NaN</td>\n",
              "      <td>NaN</td>\n",
              "      <td>1.294213</td>\n",
              "      <td>7.579203</td>\n",
              "      <td>1.382046e+08</td>\n",
              "      <td>5.612088e+06</td>\n",
              "    </tr>\n",
              "    <tr>\n",
              "      <td>min</td>\n",
              "      <td>NaN</td>\n",
              "      <td>NaN</td>\n",
              "      <td>NaN</td>\n",
              "      <td>NaN</td>\n",
              "      <td>NaN</td>\n",
              "      <td>NaN</td>\n",
              "      <td>NaN</td>\n",
              "      <td>NaN</td>\n",
              "      <td>NaN</td>\n",
              "      <td>NaN</td>\n",
              "      <td>1.000000</td>\n",
              "      <td>1902.000000</td>\n",
              "      <td>0.000000e+00</td>\n",
              "      <td>0.000000e+00</td>\n",
              "    </tr>\n",
              "    <tr>\n",
              "      <td>25%</td>\n",
              "      <td>NaN</td>\n",
              "      <td>NaN</td>\n",
              "      <td>NaN</td>\n",
              "      <td>NaN</td>\n",
              "      <td>NaN</td>\n",
              "      <td>NaN</td>\n",
              "      <td>NaN</td>\n",
              "      <td>NaN</td>\n",
              "      <td>NaN</td>\n",
              "      <td>NaN</td>\n",
              "      <td>1.000000</td>\n",
              "      <td>2006.000000</td>\n",
              "      <td>0.000000e+00</td>\n",
              "      <td>0.000000e+00</td>\n",
              "    </tr>\n",
              "    <tr>\n",
              "      <td>50%</td>\n",
              "      <td>NaN</td>\n",
              "      <td>NaN</td>\n",
              "      <td>NaN</td>\n",
              "      <td>NaN</td>\n",
              "      <td>NaN</td>\n",
              "      <td>NaN</td>\n",
              "      <td>NaN</td>\n",
              "      <td>NaN</td>\n",
              "      <td>NaN</td>\n",
              "      <td>NaN</td>\n",
              "      <td>1.000000</td>\n",
              "      <td>2010.000000</td>\n",
              "      <td>0.000000e+00</td>\n",
              "      <td>0.000000e+00</td>\n",
              "    </tr>\n",
              "    <tr>\n",
              "      <td>75%</td>\n",
              "      <td>NaN</td>\n",
              "      <td>NaN</td>\n",
              "      <td>NaN</td>\n",
              "      <td>NaN</td>\n",
              "      <td>NaN</td>\n",
              "      <td>NaN</td>\n",
              "      <td>NaN</td>\n",
              "      <td>NaN</td>\n",
              "      <td>NaN</td>\n",
              "      <td>NaN</td>\n",
              "      <td>2.000000</td>\n",
              "      <td>2012.000000</td>\n",
              "      <td>0.000000e+00</td>\n",
              "      <td>0.000000e+00</td>\n",
              "    </tr>\n",
              "    <tr>\n",
              "      <td>max</td>\n",
              "      <td>NaN</td>\n",
              "      <td>NaN</td>\n",
              "      <td>NaN</td>\n",
              "      <td>NaN</td>\n",
              "      <td>NaN</td>\n",
              "      <td>NaN</td>\n",
              "      <td>NaN</td>\n",
              "      <td>NaN</td>\n",
              "      <td>NaN</td>\n",
              "      <td>NaN</td>\n",
              "      <td>18.000000</td>\n",
              "      <td>2014.000000</td>\n",
              "      <td>3.007950e+10</td>\n",
              "      <td>7.505000e+08</td>\n",
              "    </tr>\n",
              "  </tbody>\n",
              "</table>\n",
              "</div>"
            ],
            "text/plain": [
              "         name            homepage_url category_list     market   \\\n",
              "count   49437                   45989         45477       45470   \n",
              "unique  49350                   45850         16675         753   \n",
              "top     Spire  http://www.zhaopin.com    |Software|   Software    \n",
              "freq        4                       2          3650        4620   \n",
              "mean      NaN                     NaN           NaN         NaN   \n",
              "std       NaN                     NaN           NaN         NaN   \n",
              "min       NaN                     NaN           NaN         NaN   \n",
              "25%       NaN                     NaN           NaN         NaN   \n",
              "50%       NaN                     NaN           NaN         NaN   \n",
              "75%       NaN                     NaN           NaN         NaN   \n",
              "max       NaN                     NaN           NaN         NaN   \n",
              "\n",
              "        funding_total_usd      status country_code state_code       region  \\\n",
              "count                49438      48124        44165      30161        44165   \n",
              "unique               14617          3          115         61         1089   \n",
              "top                   -     operating          USA         CA  SF Bay Area   \n",
              "freq                  8531      41829        28793       9917         6804   \n",
              "mean                   NaN        NaN          NaN        NaN          NaN   \n",
              "std                    NaN        NaN          NaN        NaN          NaN   \n",
              "min                    NaN        NaN          NaN        NaN          NaN   \n",
              "25%                    NaN        NaN          NaN        NaN          NaN   \n",
              "50%                    NaN        NaN          NaN        NaN          NaN   \n",
              "75%                    NaN        NaN          NaN        NaN          NaN   \n",
              "max                    NaN        NaN          NaN        NaN          NaN   \n",
              "\n",
              "                 city  funding_rounds  founded_year  debt_financing  \\\n",
              "count           43322    49438.000000  38482.000000    4.943800e+04   \n",
              "unique           4188             NaN           NaN             NaN   \n",
              "top     San Francisco             NaN           NaN             NaN   \n",
              "freq             2615             NaN           NaN             NaN   \n",
              "mean              NaN        1.696205   2007.359129    1.888157e+06   \n",
              "std               NaN        1.294213      7.579203    1.382046e+08   \n",
              "min               NaN        1.000000   1902.000000    0.000000e+00   \n",
              "25%               NaN        1.000000   2006.000000    0.000000e+00   \n",
              "50%               NaN        1.000000   2010.000000    0.000000e+00   \n",
              "75%               NaN        2.000000   2012.000000    0.000000e+00   \n",
              "max               NaN       18.000000   2014.000000    3.007950e+10   \n",
              "\n",
              "               grant  \n",
              "count   4.943800e+04  \n",
              "unique           NaN  \n",
              "top              NaN  \n",
              "freq             NaN  \n",
              "mean    1.628453e+05  \n",
              "std     5.612088e+06  \n",
              "min     0.000000e+00  \n",
              "25%     0.000000e+00  \n",
              "50%     0.000000e+00  \n",
              "75%     0.000000e+00  \n",
              "max     7.505000e+08  "
            ]
          },
          "metadata": {
            "tags": []
          },
          "execution_count": 126
        }
      ]
    },
    {
      "cell_type": "code",
      "metadata": {
        "id": "gePyRt19-gZ0",
        "colab_type": "code",
        "colab": {},
        "outputId": "56427350-ae26-4105-ae55-a2e6f8a7472d"
      },
      "source": [
        "# Display duplicate rows.\n",
        "\n",
        "df.duplicated().sum()"
      ],
      "execution_count": 0,
      "outputs": [
        {
          "output_type": "execute_result",
          "data": {
            "text/plain": [
              "0"
            ]
          },
          "metadata": {
            "tags": []
          },
          "execution_count": 192
        }
      ]
    },
    {
      "cell_type": "code",
      "metadata": {
        "id": "o505TLPM-gZ8",
        "colab_type": "code",
        "colab": {}
      },
      "source": [
        "# Rough Practise\n",
        "# series = [('Stranger Things', 3, 'Millie'),\n",
        "#           ('Game of Thrones', 8, 'Emilia'), ('La Casa De Papel', 4, 'Sergio'),\n",
        "#           ('Westworld', 3, 'Evan Rachel'), ('Stranger Things', 3, 'Millie'),\n",
        "#          ('La Casa De Papel', 4, 'Sergio')]\n",
        "\n",
        "# # Create a DataFrame object\n",
        "# dfObj = pd.DataFrame(series, columns=['Name', 'Seasons', 'Actor'])\n",
        "\n",
        "# dfObj\n",
        "\n",
        "# dfObj.duplicated().sum()"
      ],
      "execution_count": 0,
      "outputs": []
    },
    {
      "cell_type": "code",
      "metadata": {
        "id": "hbHjZPLS-gaI",
        "colab_type": "code",
        "colab": {},
        "outputId": "63d9192d-78ae-4d96-d322-09ef542a19b9"
      },
      "source": [
        "# For each column find out percentage of missing values.\n",
        "(df.isnull().sum()/df.isnull().count())*100"
      ],
      "execution_count": 0,
      "outputs": [
        {
          "output_type": "execute_result",
          "data": {
            "text/plain": [
              "name                    0.002023\n",
              "homepage_url            6.976415\n",
              "category_list           8.012056\n",
              " market                 8.026215\n",
              " funding_total_usd      0.000000\n",
              "status                  2.657875\n",
              "country_code           10.665885\n",
              "state_code             38.992273\n",
              "region                 10.665885\n",
              "city                   12.371051\n",
              "funding_rounds          0.000000\n",
              "founded_year           22.161091\n",
              "debt_financing          0.000000\n",
              "grant                   0.000000\n",
              "dtype: float64"
            ]
          },
          "metadata": {
            "tags": []
          },
          "execution_count": 226
        }
      ]
    },
    {
      "cell_type": "code",
      "metadata": {
        "collapsed": true,
        "id": "jWWgZONL-gaT",
        "colab_type": "code",
        "colab": {},
        "outputId": "ed641d04-640e-4c22-9269-39ad6dce4cd4"
      },
      "source": [
        "# Find count of ‘name’ in each ‘country_code’.\n",
        "# df.groupby(by='country_code').groups\n",
        "df.groupby(by='country_code').name.count().head(20)"
      ],
      "execution_count": 0,
      "outputs": [
        {
          "output_type": "execute_result",
          "data": {
            "text/plain": [
              "country_code\n",
              "ALB       1\n",
              "ARE      66\n",
              "ARG     149\n",
              "ARM       2\n",
              "AUS     314\n",
              "AUT     103\n",
              "AZE       3\n",
              "BEL     149\n",
              "BGD       7\n",
              "BGR      68\n",
              "BHR       3\n",
              "BHS       2\n",
              "BLR       3\n",
              "BMU       4\n",
              "BRA     293\n",
              "BRN       1\n",
              "BWA       4\n",
              "CAN    1405\n",
              "CHE     222\n",
              "CHL     285\n",
              "Name: name, dtype: int64"
            ]
          },
          "metadata": {
            "tags": []
          },
          "execution_count": 241
        }
      ]
    },
    {
      "cell_type": "code",
      "metadata": {
        "id": "1lvVx7b4-gae",
        "colab_type": "code",
        "colab": {}
      },
      "source": [
        "## For checking the no of names of ARM country\n",
        "# df[df['country_code']==\"ARM\"]"
      ],
      "execution_count": 0,
      "outputs": []
    },
    {
      "cell_type": "code",
      "metadata": {
        "id": "T97wSx7U-gaq",
        "colab_type": "code",
        "colab": {},
        "outputId": "b0d8082d-3040-487e-b5da-e8419e48e30b"
      },
      "source": [
        "# What is the percentage of the companies which have status ‘acquired’ and ‘operating’?\n",
        "\n",
        "# (df.groupby([\"status\"]).name.count()/df.name.count())*100\n",
        "(df.groupby([\"status\"]).filter(lambda x: len(x)!=2603).groupby('status').name.count()/df.name.count())*100\n"
      ],
      "execution_count": 0,
      "outputs": [
        {
          "output_type": "execute_result",
          "data": {
            "text/plain": [
              "status\n",
              "acquired      7.468091\n",
              "operating    84.610717\n",
              "Name: name, dtype: float64"
            ]
          },
          "metadata": {
            "tags": []
          },
          "execution_count": 398
        }
      ]
    },
    {
      "cell_type": "code",
      "metadata": {
        "id": "q6JwUXJ8-ga0",
        "colab_type": "code",
        "colab": {}
      },
      "source": [
        "# Create a column ‘category_list_count’ having count of category lists.\n",
        "\n",
        "# # Alternative code\n",
        "# l=[]\n",
        "# for i in range(len(df[\"category_list\"])):\n",
        "#     if str(df[\"category_list\"][i])==\"nan\":\n",
        "#         l.append(0)\n",
        "# #         print(i,\" \",df[\"category_list\"][i],\" \",0)\n",
        "#     else:\n",
        "#         j=len(df[\"category_list\"][i].split(\"|\"))-2\n",
        "# #         print(i,\" \",df[\"category_list\"][i],\" \",j)\n",
        "#         l.append(j)   \n",
        "\n",
        "df[\"category_list_count\"]=df[\"category_list\"].apply(lambda x: 0 if str(x)==\"nan\" else len(x.split(\"|\"))-2 )\n"
      ],
      "execution_count": 0,
      "outputs": []
    },
    {
      "cell_type": "code",
      "metadata": {
        "id": "iDomAKi--ga9",
        "colab_type": "code",
        "colab": {}
      },
      "source": [
        ""
      ],
      "execution_count": 0,
      "outputs": []
    },
    {
      "cell_type": "code",
      "metadata": {
        "id": "jBVmwD21-gbG",
        "colab_type": "code",
        "colab": {}
      },
      "source": [
        ""
      ],
      "execution_count": 0,
      "outputs": []
    },
    {
      "cell_type": "code",
      "metadata": {
        "id": "Wo5m9g9b-gbN",
        "colab_type": "code",
        "colab": {}
      },
      "source": [
        ""
      ],
      "execution_count": 0,
      "outputs": []
    },
    {
      "cell_type": "code",
      "metadata": {
        "id": "R0_pJiDS-gbV",
        "colab_type": "code",
        "colab": {}
      },
      "source": [
        ""
      ],
      "execution_count": 0,
      "outputs": []
    }
  ]
}