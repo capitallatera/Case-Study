{
  "nbformat": 4,
  "nbformat_minor": 0,
  "metadata": {
    "colab": {
      "name": "Netflix_Dataset.ipynb",
      "provenance": [],
      "mount_file_id": "1X6qEQ7fKEMx4iIRi1LtfwtSxelHAJVbZ",
      "authorship_tag": "ABX9TyP2cobS7FeJlMlKYL4lN0+T",
      "include_colab_link": true
    },
    "kernelspec": {
      "name": "python3",
      "display_name": "Python 3"
    }
  },
  "cells": [
    {
      "cell_type": "markdown",
      "metadata": {
        "id": "view-in-github",
        "colab_type": "text"
      },
      "source": [
        "<a href=\"https://colab.research.google.com/github/capitallatera/Case-Study/blob/master/Netflix_Dataset.ipynb\" target=\"_parent\"><img src=\"https://colab.research.google.com/assets/colab-badge.svg\" alt=\"Open In Colab\"/></a>"
      ]
    },
    {
      "cell_type": "code",
      "metadata": {
        "id": "cOyyKyYzf7Iy"
      },
      "source": [
        "# Import libraries\n",
        "import pandas as pd"
      ],
      "execution_count": 2,
      "outputs": []
    },
    {
      "cell_type": "code",
      "metadata": {
        "id": "b3H_xO7Gi6z1"
      },
      "source": [
        "# Import dataset\n",
        "df=pd.read_csv(\"/content/drive/MyDrive/DataSet_Main/ViewingActivity-sample.csv\")"
      ],
      "execution_count": 3,
      "outputs": []
    },
    {
      "cell_type": "code",
      "metadata": {
        "colab": {
          "base_uri": "https://localhost:8080/",
          "height": 160
        },
        "id": "xTOqVdBtjxRG",
        "outputId": "3351f752-8366-40b8-a1a1-0e520be0b903"
      },
      "source": [
        "# Data points\n",
        "df.head(2)"
      ],
      "execution_count": 13,
      "outputs": [
        {
          "output_type": "execute_result",
          "data": {
            "text/html": [
              "<div>\n",
              "<style scoped>\n",
              "    .dataframe tbody tr th:only-of-type {\n",
              "        vertical-align: middle;\n",
              "    }\n",
              "\n",
              "    .dataframe tbody tr th {\n",
              "        vertical-align: top;\n",
              "    }\n",
              "\n",
              "    .dataframe thead th {\n",
              "        text-align: right;\n",
              "    }\n",
              "</style>\n",
              "<table border=\"1\" class=\"dataframe\">\n",
              "  <thead>\n",
              "    <tr style=\"text-align: right;\">\n",
              "      <th></th>\n",
              "      <th>Profile Name</th>\n",
              "      <th>Start Time</th>\n",
              "      <th>Duration</th>\n",
              "      <th>Attributes</th>\n",
              "      <th>Title</th>\n",
              "      <th>Supplemental Video Type</th>\n",
              "      <th>Device Type</th>\n",
              "      <th>Bookmark</th>\n",
              "      <th>Latest Bookmark</th>\n",
              "      <th>Country</th>\n",
              "    </tr>\n",
              "  </thead>\n",
              "  <tbody>\n",
              "    <tr>\n",
              "      <th>0</th>\n",
              "      <td>Charlie</td>\n",
              "      <td>2013-03-20 5:17:53</td>\n",
              "      <td>0:00:05</td>\n",
              "      <td>NaN</td>\n",
              "      <td>Star Trek: Deep Space Nine: Season 5: Empok No...</td>\n",
              "      <td>NaN</td>\n",
              "      <td>Mac</td>\n",
              "      <td>0:00:05</td>\n",
              "      <td>Not latest view</td>\n",
              "      <td>US (United States)</td>\n",
              "    </tr>\n",
              "    <tr>\n",
              "      <th>1</th>\n",
              "      <td>Charlie</td>\n",
              "      <td>2013-03-20 4:27:45</td>\n",
              "      <td>0:44:31</td>\n",
              "      <td>NaN</td>\n",
              "      <td>Star Trek: Deep Space Nine: Season 5: Blaze of...</td>\n",
              "      <td>NaN</td>\n",
              "      <td>Mac</td>\n",
              "      <td>0:44:31</td>\n",
              "      <td>Not latest view</td>\n",
              "      <td>US (United States)</td>\n",
              "    </tr>\n",
              "  </tbody>\n",
              "</table>\n",
              "</div>"
            ],
            "text/plain": [
              "  Profile Name          Start Time  ...  Latest Bookmark             Country\n",
              "0      Charlie  2013-03-20 5:17:53  ...  Not latest view  US (United States)\n",
              "1      Charlie  2013-03-20 4:27:45  ...  Not latest view  US (United States)\n",
              "\n",
              "[2 rows x 10 columns]"
            ]
          },
          "metadata": {
            "tags": []
          },
          "execution_count": 13
        }
      ]
    },
    {
      "cell_type": "code",
      "metadata": {
        "colab": {
          "base_uri": "https://localhost:8080/"
        },
        "id": "2ZCFLTNmj0Wo",
        "outputId": "7ca91bea-e472-4993-8bc9-d85ee7c85e20"
      },
      "source": [
        "# Missing Data in DataSet\n",
        "df.isna().sum()"
      ],
      "execution_count": 10,
      "outputs": [
        {
          "output_type": "execute_result",
          "data": {
            "text/plain": [
              "Profile Name                 0\n",
              "Start Time                   0\n",
              "Duration                     0\n",
              "Attributes                 200\n",
              "Title                        0\n",
              "Supplemental Video Type    200\n",
              "Device Type                  0\n",
              "Bookmark                     0\n",
              "Latest Bookmark              0\n",
              "Country                      0\n",
              "dtype: int64"
            ]
          },
          "metadata": {
            "tags": []
          },
          "execution_count": 10
        }
      ]
    },
    {
      "cell_type": "code",
      "metadata": {
        "colab": {
          "base_uri": "https://localhost:8080/"
        },
        "id": "tOm42TfzkDQn",
        "outputId": "6f8ab12e-b52b-46a6-cee4-c294218d6ca8"
      },
      "source": [
        "# Total Length of data\n",
        "len(df)"
      ],
      "execution_count": 12,
      "outputs": [
        {
          "output_type": "execute_result",
          "data": {
            "text/plain": [
              "200"
            ]
          },
          "metadata": {
            "tags": []
          },
          "execution_count": 12
        }
      ]
    },
    {
      "cell_type": "code",
      "metadata": {
        "id": "WRMEqJOvp0Nh"
      },
      "source": [
        "# Making a copy of dataset\n",
        "df2=df.copy()"
      ],
      "execution_count": 20,
      "outputs": []
    },
    {
      "cell_type": "code",
      "metadata": {
        "id": "4hqLRsCEmrX_"
      },
      "source": [
        "# Delete nan data points\n",
        "df2.dropna(axis=1,inplace=True)"
      ],
      "execution_count": 26,
      "outputs": []
    },
    {
      "cell_type": "code",
      "metadata": {
        "colab": {
          "base_uri": "https://localhost:8080/"
        },
        "id": "1R8NJBEuqfrV",
        "outputId": "3ebc4191-4867-4138-d215-e06c83ac8866"
      },
      "source": [
        "df2.isna().sum()"
      ],
      "execution_count": 28,
      "outputs": [
        {
          "output_type": "execute_result",
          "data": {
            "text/plain": [
              "Profile Name       0\n",
              "Start Time         0\n",
              "Duration           0\n",
              "Title              0\n",
              "Device Type        0\n",
              "Bookmark           0\n",
              "Latest Bookmark    0\n",
              "Country            0\n",
              "dtype: int64"
            ]
          },
          "metadata": {
            "tags": []
          },
          "execution_count": 28
        }
      ]
    },
    {
      "cell_type": "code",
      "metadata": {
        "colab": {
          "base_uri": "https://localhost:8080/"
        },
        "id": "gzfVUKEomrry",
        "outputId": "0d96e525-919a-49d4-9c7b-6fccf080d713"
      },
      "source": [
        "df2.info()"
      ],
      "execution_count": 33,
      "outputs": [
        {
          "output_type": "stream",
          "text": [
            "<class 'pandas.core.frame.DataFrame'>\n",
            "RangeIndex: 200 entries, 0 to 199\n",
            "Data columns (total 8 columns):\n",
            " #   Column           Non-Null Count  Dtype \n",
            "---  ------           --------------  ----- \n",
            " 0   Profile Name     200 non-null    object\n",
            " 1   Start Time       200 non-null    object\n",
            " 2   Duration         200 non-null    object\n",
            " 3   Title            200 non-null    object\n",
            " 4   Device Type      200 non-null    object\n",
            " 5   Bookmark         200 non-null    object\n",
            " 6   Latest Bookmark  200 non-null    object\n",
            " 7   Country          200 non-null    object\n",
            "dtypes: object(8)\n",
            "memory usage: 12.6+ KB\n"
          ],
          "name": "stdout"
        }
      ]
    },
    {
      "cell_type": "code",
      "metadata": {
        "colab": {
          "base_uri": "https://localhost:8080/",
          "height": 160
        },
        "id": "8wqg-5zatq4s",
        "outputId": "88635344-19b6-4b9f-f295-298f1ceff578"
      },
      "source": [
        "df2.head(2)"
      ],
      "execution_count": 36,
      "outputs": [
        {
          "output_type": "execute_result",
          "data": {
            "text/html": [
              "<div>\n",
              "<style scoped>\n",
              "    .dataframe tbody tr th:only-of-type {\n",
              "        vertical-align: middle;\n",
              "    }\n",
              "\n",
              "    .dataframe tbody tr th {\n",
              "        vertical-align: top;\n",
              "    }\n",
              "\n",
              "    .dataframe thead th {\n",
              "        text-align: right;\n",
              "    }\n",
              "</style>\n",
              "<table border=\"1\" class=\"dataframe\">\n",
              "  <thead>\n",
              "    <tr style=\"text-align: right;\">\n",
              "      <th></th>\n",
              "      <th>Profile Name</th>\n",
              "      <th>Start Time</th>\n",
              "      <th>Duration</th>\n",
              "      <th>Title</th>\n",
              "      <th>Device Type</th>\n",
              "      <th>Bookmark</th>\n",
              "      <th>Latest Bookmark</th>\n",
              "      <th>Country</th>\n",
              "    </tr>\n",
              "  </thead>\n",
              "  <tbody>\n",
              "    <tr>\n",
              "      <th>0</th>\n",
              "      <td>Charlie</td>\n",
              "      <td>2013-03-20 5:17:53</td>\n",
              "      <td>0:00:05</td>\n",
              "      <td>Star Trek: Deep Space Nine: Season 5: Empok No...</td>\n",
              "      <td>Mac</td>\n",
              "      <td>0:00:05</td>\n",
              "      <td>Not latest view</td>\n",
              "      <td>US (United States)</td>\n",
              "    </tr>\n",
              "    <tr>\n",
              "      <th>1</th>\n",
              "      <td>Charlie</td>\n",
              "      <td>2013-03-20 4:27:45</td>\n",
              "      <td>0:44:31</td>\n",
              "      <td>Star Trek: Deep Space Nine: Season 5: Blaze of...</td>\n",
              "      <td>Mac</td>\n",
              "      <td>0:44:31</td>\n",
              "      <td>Not latest view</td>\n",
              "      <td>US (United States)</td>\n",
              "    </tr>\n",
              "  </tbody>\n",
              "</table>\n",
              "</div>"
            ],
            "text/plain": [
              "  Profile Name          Start Time  ...  Latest Bookmark             Country\n",
              "0      Charlie  2013-03-20 5:17:53  ...  Not latest view  US (United States)\n",
              "1      Charlie  2013-03-20 4:27:45  ...  Not latest view  US (United States)\n",
              "\n",
              "[2 rows x 8 columns]"
            ]
          },
          "metadata": {
            "tags": []
          },
          "execution_count": 36
        }
      ]
    },
    {
      "cell_type": "code",
      "metadata": {
        "colab": {
          "base_uri": "https://localhost:8080/"
        },
        "id": "BGhFOltWuP7Z",
        "outputId": "032fc483-f5da-46ab-f258-c1eebfa1c0dc"
      },
      "source": [
        "# Profile Name\n",
        "df2[\"Profile Name\"].unique()"
      ],
      "execution_count": 38,
      "outputs": [
        {
          "output_type": "execute_result",
          "data": {
            "text/plain": [
              "array(['Charlie'], dtype=object)"
            ]
          },
          "metadata": {
            "tags": []
          },
          "execution_count": 38
        }
      ]
    },
    {
      "cell_type": "code",
      "metadata": {
        "colab": {
          "base_uri": "https://localhost:8080/"
        },
        "id": "nVniJ3vIuzPR",
        "outputId": "0dad8858-610e-422c-8848-93373d8dcbac"
      },
      "source": [
        "df2[\"Title\"].unique()"
      ],
      "execution_count": 41,
      "outputs": [
        {
          "output_type": "execute_result",
          "data": {
            "text/plain": [
              "array(['Star Trek: Deep Space Nine: Season 5: Empok Nor (Episode 24)',\n",
              "       'Star Trek: Deep Space Nine: Season 5: Blaze of Glory (Episode 23)',\n",
              "       'Star Trek: Deep Space Nine: Season 5: Children of Time (Episode 22)',\n",
              "       'The Invisible War',\n",
              "       'Star Trek: Deep Space Nine: Season 5: Soldiers of the Empire (Episode 21)',\n",
              "       'Star Trek: Deep Space Nine: Season 5: Ferengi Love Songs (Episode 20)',\n",
              "       'The Office (U.S.): Season 5: The Duel (Episode 12)',\n",
              "       'The Office (U.S.): Season 5: Moroccan Christmas (Episode 11)',\n",
              "       'The Office (U.S.): Season 5: The Surplus (Episode 10)',\n",
              "       'The Office (U.S.): Season 5: Frame Toby (Episode 9)',\n",
              "       'The Office (U.S.): Season 5: Business Trip (Episode 8)',\n",
              "       'The Office (U.S.): Season 5: Customer Survey (Episode 7)',\n",
              "       'The Office (U.S.): Season 5: Employee Transfer (Episode 6)',\n",
              "       'The Office (U.S.): Season 5: Crime Aid (Episode 5)',\n",
              "       'The Office (U.S.): Season 5: Baby Shower (Episode 4)',\n",
              "       'The Office (U.S.): Season 5: Business Ethics (Episode 3)',\n",
              "       'The Office (U.S.): Season 5: Weight Loss: Part 2 (Episode 2)',\n",
              "       'The Office (U.S.): Season 5: Weight Loss: Part 1 (Episode 1)',\n",
              "       'The Office (U.S.): Season 4: Goodbye, Toby (Episode 14)',\n",
              "       'The Office (U.S.): Season 4: Job Fair (Episode 13)',\n",
              "       'The Office (U.S.): Season 4: Did I Stutter (Episode 12)',\n",
              "       'The Office (U.S.): Season 4: Night Out (Episode 11)',\n",
              "       'The Office (U.S.): Season 4: The Chair Model (Episode 10)',\n",
              "       'The Office (U.S.): Season 4: Dinner Party (Episode 9)',\n",
              "       'The Office (U.S.): Season 4: The Deposition (Episode 8)',\n",
              "       'The Office (U.S.): Season 4: Survivor Man (Episode 7)',\n",
              "       'The Office (U.S.): Season 4: Local Ad (Episode 5)',\n",
              "       'The Office (U.S.): Season 4: Money (Episode 4)',\n",
              "       'The Office (U.S.): Season 4: Launch Party (Episode 3)',\n",
              "       'Archer: Season 3: The Man from Jupiter (Episode 4)',\n",
              "       'Archer: Season 3: Heart of Archness, Part 3 (Episode 3)',\n",
              "       'Archer: Season 3: Heart of Archness, Part 2 (Episode 2)',\n",
              "       'The Office (U.S.): Season 4: Dunder Mifflin Infinity (Episode 2)',\n",
              "       'The Office (U.S.): Season 4: Fun Run (Episode 1)',\n",
              "       'The Office (U.S.): Season 3: The Job (Episode 23)',\n",
              "       'The Office (U.S.): Season 3: Beach Games (Episode 22)',\n",
              "       \"The Office (U.S.): Season 3: Women's Appreciation (Episode 21)\",\n",
              "       'The Office (U.S.): Season 3: Product Recall (Episode 20)',\n",
              "       'The Office (U.S.): Season 3: Safety Training (Episode 19)',\n",
              "       'Archer: Season 3: Heart of Archness, Part 1 (Episode 1)',\n",
              "       'Archer: Season 2: El Secuestro (Episode 10)',\n",
              "       'The Office (U.S.): Season 3: The Negotiation (Episode 18)',\n",
              "       'The Office (U.S.): Season 3: Cocktails (Episode 17)',\n",
              "       'The Office (U.S.): Season 3: Business School (Episode 16)',\n",
              "       \"The Office (U.S.): Season 3: Phyllis's Wedding (Episode 15)\",\n",
              "       'The Office (U.S.): Season 3: Ben Franklin (Episode 14)',\n",
              "       'Archer: Season 2: Placebo Effect (Episode 9)',\n",
              "       'Archer: Season 2: Stage Two (Episode 8)',\n",
              "       'The Office (U.S.): Season 3: The Return (Episode 13)',\n",
              "       'The Office (U.S.): Season 3: Traveling Salesmen (Episode 12)',\n",
              "       'The Office (U.S.): Season 3: Back from Vacation (Episode 11)',\n",
              "       'The Office (U.S.): Season 3: A Benihana Christmas (Episode 10)',\n",
              "       'The Office (U.S.): Season 3: The Convict (Episode 9)',\n",
              "       'The Office (U.S.): Season 3: The Merger (Episode 8)',\n",
              "       'The Office (U.S.): Season 3: Branch Closing (Episode 7)',\n",
              "       'The Office (U.S.): Season 3: Diwali (Episode 6)',\n",
              "       'The Office (U.S.): Season 3: Initiation (Episode 5)',\n",
              "       'The Office (U.S.): Season 3: Grief Counseling (Episode 4)',\n",
              "       'The Office (U.S.): Season 3: The Coup (Episode 3)',\n",
              "       'The Office (U.S.): Season 3: The Convention (Episode 2)',\n",
              "       'The Office (U.S.): Season 3: Gay Witch Hunt (Episode 1)',\n",
              "       'The Office (U.S.): Season 2: Casino Night (Episode 22)',\n",
              "       'The Office (U.S.): Season 2: Conflict Resolution (Episode 21)',\n",
              "       'The Office (U.S.): Season 2: Drug Testing (Episode 20)',\n",
              "       \"The Office (U.S.): Season 2: Michael's Birthday (Episode 19)\",\n",
              "       'The Office (U.S.): Season 2: Take Your Daughter to Work Day (Episode 18)',\n",
              "       \"The Office (U.S.): Season 2: Dwight's Speech (Episode 17)\",\n",
              "       \"The Office (U.S.): Season 2: Valentine's Day (Episode 16)\",\n",
              "       'The Office (U.S.): Season 2: Boys and Girls (Episode 15)',\n",
              "       'The Office (U.S.): Season 2: The Carpet (Episode 14)',\n",
              "       'The Office (U.S.): Season 2: The Secret (Episode 13)',\n",
              "       'Archer: Season 2: Movie Star (Episode 7)',\n",
              "       'Archer: Season 2: Tragical History (Episode 6)',\n",
              "       'The Office (U.S.): Season 2: The Injury (Episode 12)',\n",
              "       'The Office (U.S.): Season 2: Booze Cruise (Episode 11)',\n",
              "       'The Office (U.S.): Season 2: Christmas Party (Episode 10)',\n",
              "       'The Office (U.S.): Season 2: Email Surveillance (Episode 9)',\n",
              "       'The Office (U.S.): Season 2: Performance Review (Episode 8)',\n",
              "       'The Office (U.S.): Season 2: The Client (Episode 7)',\n",
              "       'The Office (U.S.): Season 2: The Fight (Episode 6)',\n",
              "       'The Office (U.S.): Season 2: Halloween (Episode 5)',\n",
              "       'The Office (U.S.): Season 2: The Fire (Episode 4)',\n",
              "       'The Office (U.S.): Season 2: Office Olympics (Episode 3)',\n",
              "       'The Office (U.S.): Season 2: Sexual Harassment (Episode 2)',\n",
              "       'The Office (U.S.): Season 2: The Dundies (Episode 1)',\n",
              "       'The Office (U.S.): Season 1: Hot Girl (Episode 6)',\n",
              "       'The Office (U.S.): Season 1: Basketball (Episode 5)',\n",
              "       'The Office (U.S.): Season 1: The Alliance (Episode 4)',\n",
              "       'The Office (U.S.): Season 1: Health Care (Episode 3)',\n",
              "       'The Office (U.S.): Season 1: Diversity Day (Episode 2)',\n",
              "       'The Office (U.S.): Season 1: Pilot (Episode 1)',\n",
              "       'The Office (U.S.): Season 7: Search Committee: Part 2 (Episode 26)',\n",
              "       'The Office (U.S.): Season 7: Search Committee: Part 1 (Episode 25)',\n",
              "       'The Office (U.S.): Season 7: Dwight K. Schrute, (Acting) Manager (Episode 24)',\n",
              "       'The Office (U.S.): Season 7: The Inner Circle (Episode 23)',\n",
              "       'The Office (U.S.): Season 7: Goodbye, Michael (Episode 22)',\n",
              "       \"The Office (U.S.): Season 7: Michael's Last Dundies (Episode 21)\",\n",
              "       'The Office (U.S.): Season 7: Training Day (Episode 20)',\n",
              "       'The Office (U.S.): Season 7: Garage Sale (Episode 19)',\n",
              "       'The Office (U.S.): Season 7: Threat Level Midnight (Episode 17)',\n",
              "       'The Office (U.S.): Season 7: PDA (Episode 16)',\n",
              "       'The Office (U.S.): Season 7: The Search (Episode 15)',\n",
              "       'The Office (U.S.): Season 7: The Seminar (Episode 14)',\n",
              "       'The Office (U.S.): Season 7: Ultimatum (Episode 13)',\n",
              "       'The Office (U.S.): Season 7: Classy Christmas: Part 2 (Episode 12)',\n",
              "       'The Office (U.S.): Season 7: Classy Christmas: Part 1 (Episode 11)',\n",
              "       'The Office (U.S.): Season 7: China (Episode 10)',\n",
              "       'The Office (U.S.): Season 7: WUPHF.com (Episode 9)',\n",
              "       'The Office (U.S.): Season 7: Viewing Party (Episode 8)',\n",
              "       'The Office (U.S.): Season 7: Christening (Episode 7)',\n",
              "       'The Office (U.S.): Season 7: Costume Contest (Episode 6)',\n",
              "       'The Office (U.S.): Season 7: The Sting (Episode 5)',\n",
              "       'The Office (U.S.): Season 7: Sex Ed (Episode 4)',\n",
              "       \"The Office (U.S.): Season 7: Andy's Play (Episode 3)\",\n",
              "       'The Office (U.S.): Season 7: Counseling (Episode 2)',\n",
              "       'The Office (U.S.): Season 7: Nepotism (Episode 1)',\n",
              "       'Archer: Season 2: The Double Deuce (Episode 5)',\n",
              "       '30 for 30: The Two Escobars',\n",
              "       'Star Trek: Deep Space Nine: Season 5: Ties of Blood and Water (Episode 19)',\n",
              "       'Star Trek: Deep Space Nine: Season 5: Business as Usual (Episode 18)',\n",
              "       'Star Trek: Deep Space Nine: Season 5: A Simple Investigation (Episode 17)',\n",
              "       'Star Trek: Deep Space Nine: Season 5: Doctor Bashir, I Presume? (Episode 16)',\n",
              "       'Buffy the Vampire Slayer: Season 6: Once More, with Feeling (Episode 7)',\n",
              "       \"Star Trek: Deep Space Nine: Season 5: By Inferno's Light (Episode 15)\",\n",
              "       'Star Trek: Deep Space Nine: Season 1: Emissary: Parts 1 & 2 (Episode 1)',\n",
              "       \"Star Trek: Deep Space Nine: Season 5: In Purgatory's Shadow (Episode 14)\",\n",
              "       'Star Trek: Deep Space Nine: Season 5: For the Uniform (Episode 13)',\n",
              "       'Star Trek: Deep Space Nine: Season 5: The Begotten (Episode 12)',\n",
              "       'Star Trek: Deep Space Nine: Season 5: The Darkness and the Light (Episode 11)',\n",
              "       'Star Trek: Deep Space Nine: Season 5: Rapture (Episode 10)',\n",
              "       'Star Trek: Deep Space Nine: Season 5: The Ascent (Episode 9)',\n",
              "       'Archer: Season 2: Pipeline Fever (Episode 4)',\n",
              "       'Archer: Season 2: Blood Test (Episode 3)',\n",
              "       'Star Trek: Deep Space Nine: Season 5: Things Past (Episode 8)',\n",
              "       'Star Trek: Deep Space Nine: Season 5: Let He Who Is Without Sin.. (Episode 7)',\n",
              "       'Star Trek: Deep Space Nine: Season 5: Trials and Tribble-ations (Episode 6)',\n",
              "       'Star Trek: Deep Space Nine: Season 5: The Assignment (Episode 5)',\n",
              "       'Star Trek: Deep Space Nine: Season 5: ...Nor the Battle to the Strong (Episode 4)',\n",
              "       \"Star Trek: Deep Space Nine: Season 5: Looking for Par'Mach in All the Wrong Places (Episode 3)\",\n",
              "       'Star Trek: Deep Space Nine: Season 5: The Ship (Episode 2)',\n",
              "       'Star Trek: Deep Space Nine: Season 5: Apocalypse Rising (Episode 1)',\n",
              "       'Star Trek: Deep Space Nine: Season 4: Broken Link (Episode 25)',\n",
              "       'Star Trek: Deep Space Nine: Season 4: Body Parts (Episode 24)',\n",
              "       'Louis C.K.: Live at the Beacon Theater',\n",
              "       'Star Trek: Deep Space Nine: Season 4: The Quickening (Episode 23)',\n",
              "       'Star Trek: Deep Space Nine: Season 4: To the Death (Episode 22)'],\n",
              "      dtype=object)"
            ]
          },
          "metadata": {
            "tags": []
          },
          "execution_count": 41
        }
      ]
    },
    {
      "cell_type": "code",
      "metadata": {
        "colab": {
          "base_uri": "https://localhost:8080/",
          "height": 407
        },
        "id": "c_6VphKUu1GY",
        "outputId": "a88565a5-4329-4cf4-993d-739464bea07c"
      },
      "source": [
        "pd.concat([df2[\"Duration\"],df2[\"Bookmark\"]],axis=1)"
      ],
      "execution_count": 46,
      "outputs": [
        {
          "output_type": "execute_result",
          "data": {
            "text/html": [
              "<div>\n",
              "<style scoped>\n",
              "    .dataframe tbody tr th:only-of-type {\n",
              "        vertical-align: middle;\n",
              "    }\n",
              "\n",
              "    .dataframe tbody tr th {\n",
              "        vertical-align: top;\n",
              "    }\n",
              "\n",
              "    .dataframe thead th {\n",
              "        text-align: right;\n",
              "    }\n",
              "</style>\n",
              "<table border=\"1\" class=\"dataframe\">\n",
              "  <thead>\n",
              "    <tr style=\"text-align: right;\">\n",
              "      <th></th>\n",
              "      <th>Duration</th>\n",
              "      <th>Bookmark</th>\n",
              "    </tr>\n",
              "  </thead>\n",
              "  <tbody>\n",
              "    <tr>\n",
              "      <th>0</th>\n",
              "      <td>0:00:05</td>\n",
              "      <td>0:00:05</td>\n",
              "    </tr>\n",
              "    <tr>\n",
              "      <th>1</th>\n",
              "      <td>0:44:31</td>\n",
              "      <td>0:44:31</td>\n",
              "    </tr>\n",
              "    <tr>\n",
              "      <th>2</th>\n",
              "      <td>0:22:06</td>\n",
              "      <td>0:44:37</td>\n",
              "    </tr>\n",
              "    <tr>\n",
              "      <th>3</th>\n",
              "      <td>0:48:14</td>\n",
              "      <td>0:53:18</td>\n",
              "    </tr>\n",
              "    <tr>\n",
              "      <th>4</th>\n",
              "      <td>0:04:51</td>\n",
              "      <td>0:05:01</td>\n",
              "    </tr>\n",
              "    <tr>\n",
              "      <th>...</th>\n",
              "      <td>...</td>\n",
              "      <td>...</td>\n",
              "    </tr>\n",
              "    <tr>\n",
              "      <th>195</th>\n",
              "      <td>0:05:18</td>\n",
              "      <td>0:27:16</td>\n",
              "    </tr>\n",
              "    <tr>\n",
              "      <th>196</th>\n",
              "      <td>0:58:12</td>\n",
              "      <td>1:01:37</td>\n",
              "    </tr>\n",
              "    <tr>\n",
              "      <th>197</th>\n",
              "      <td>0:21:59</td>\n",
              "      <td>0:22:01</td>\n",
              "    </tr>\n",
              "    <tr>\n",
              "      <th>198</th>\n",
              "      <td>0:44:26</td>\n",
              "      <td>0:44:28</td>\n",
              "    </tr>\n",
              "    <tr>\n",
              "      <th>199</th>\n",
              "      <td>0:43:48</td>\n",
              "      <td>0:43:48</td>\n",
              "    </tr>\n",
              "  </tbody>\n",
              "</table>\n",
              "<p>200 rows × 2 columns</p>\n",
              "</div>"
            ],
            "text/plain": [
              "    Duration Bookmark\n",
              "0    0:00:05  0:00:05\n",
              "1    0:44:31  0:44:31\n",
              "2    0:22:06  0:44:37\n",
              "3    0:48:14  0:53:18\n",
              "4    0:04:51  0:05:01\n",
              "..       ...      ...\n",
              "195  0:05:18  0:27:16\n",
              "196  0:58:12  1:01:37\n",
              "197  0:21:59  0:22:01\n",
              "198  0:44:26  0:44:28\n",
              "199  0:43:48  0:43:48\n",
              "\n",
              "[200 rows x 2 columns]"
            ]
          },
          "metadata": {
            "tags": []
          },
          "execution_count": 46
        }
      ]
    },
    {
      "cell_type": "code",
      "metadata": {
        "id": "K-frtRJCyUEn"
      },
      "source": [
        ""
      ],
      "execution_count": null,
      "outputs": []
    },
    {
      "cell_type": "code",
      "metadata": {
        "id": "dXLwHzgeyURY"
      },
      "source": [
        ""
      ],
      "execution_count": null,
      "outputs": []
    }
  ]
}